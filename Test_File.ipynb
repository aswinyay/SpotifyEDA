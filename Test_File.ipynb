{
 "cells": [
  {
   "cell_type": "code",
   "execution_count": 1,
   "id": "f953b22c",
   "metadata": {},
   "outputs": [],
   "source": [
    "import json\n",
    "import pandas as pd\n",
    "import requests\n",
    "from pandas.io.json import json_normalize\n",
    "import matplotlib.pyplot as plt"
   ]
  },
  {
   "cell_type": "code",
   "execution_count": 2,
   "id": "2f029509",
   "metadata": {},
   "outputs": [],
   "source": [
    "df_stream = pd.read_json('StreamingHistory0.json')"
   ]
  },
  {
   "cell_type": "code",
   "execution_count": 3,
   "id": "5fe8861c",
   "metadata": {},
   "outputs": [
    {
     "data": {
      "text/plain": [
       "endTime       0\n",
       "artistName    0\n",
       "trackName     0\n",
       "msPlayed      0\n",
       "dtype: int64"
      ]
     },
     "execution_count": 3,
     "metadata": {},
     "output_type": "execute_result"
    }
   ],
   "source": [
    "df_stream.isnull().sum()"
   ]
  },
  {
   "cell_type": "code",
   "execution_count": 4,
   "id": "65c3b72f",
   "metadata": {},
   "outputs": [
    {
     "data": {
      "text/plain": [
       "endTime       object\n",
       "artistName    object\n",
       "trackName     object\n",
       "msPlayed       int64\n",
       "dtype: object"
      ]
     },
     "execution_count": 4,
     "metadata": {},
     "output_type": "execute_result"
    }
   ],
   "source": [
    "df_stream.dtypes"
   ]
  },
  {
   "cell_type": "code",
   "execution_count": 5,
   "id": "f8c15761",
   "metadata": {},
   "outputs": [
    {
     "data": {
      "text/html": [
       "<div>\n",
       "<style scoped>\n",
       "    .dataframe tbody tr th:only-of-type {\n",
       "        vertical-align: middle;\n",
       "    }\n",
       "\n",
       "    .dataframe tbody tr th {\n",
       "        vertical-align: top;\n",
       "    }\n",
       "\n",
       "    .dataframe thead th {\n",
       "        text-align: right;\n",
       "    }\n",
       "</style>\n",
       "<table border=\"1\" class=\"dataframe\">\n",
       "  <thead>\n",
       "    <tr style=\"text-align: right;\">\n",
       "      <th></th>\n",
       "      <th>endTime</th>\n",
       "      <th>artistName</th>\n",
       "      <th>trackName</th>\n",
       "      <th>msPlayed</th>\n",
       "    </tr>\n",
       "  </thead>\n",
       "  <tbody>\n",
       "    <tr>\n",
       "      <th>0</th>\n",
       "      <td>2022-07-04 18:28</td>\n",
       "      <td>Anirudh Ravichander</td>\n",
       "      <td>Pathala Pathala (From \"Vikram\")</td>\n",
       "      <td>1810</td>\n",
       "    </tr>\n",
       "    <tr>\n",
       "      <th>1</th>\n",
       "      <td>2022-07-05 16:41</td>\n",
       "      <td>Anirudh Ravichander</td>\n",
       "      <td>Pathala Pathala (From \"Vikram\")</td>\n",
       "      <td>15350</td>\n",
       "    </tr>\n",
       "    <tr>\n",
       "      <th>2</th>\n",
       "      <td>2022-07-05 17:33</td>\n",
       "      <td>Anirudh Ravichander</td>\n",
       "      <td>Pathala Pathala (From \"Vikram\")</td>\n",
       "      <td>3780</td>\n",
       "    </tr>\n",
       "    <tr>\n",
       "      <th>3</th>\n",
       "      <td>2022-07-19 19:55</td>\n",
       "      <td>Anirudh Ravichander</td>\n",
       "      <td>Pathala Pathala (From \"Vikram\")</td>\n",
       "      <td>530</td>\n",
       "    </tr>\n",
       "    <tr>\n",
       "      <th>4</th>\n",
       "      <td>2022-07-21 22:33</td>\n",
       "      <td>Anirudh Ravichander</td>\n",
       "      <td>Pathala Pathala (From \"Vikram\")</td>\n",
       "      <td>9070</td>\n",
       "    </tr>\n",
       "    <tr>\n",
       "      <th>5</th>\n",
       "      <td>2022-07-26 10:48</td>\n",
       "      <td>Anirudh Ravichander</td>\n",
       "      <td>Pathala Pathala (From \"Vikram\")</td>\n",
       "      <td>3920</td>\n",
       "    </tr>\n",
       "    <tr>\n",
       "      <th>6</th>\n",
       "      <td>2022-07-26 19:35</td>\n",
       "      <td>Anirudh Ravichander</td>\n",
       "      <td>Pathala Pathala (From \"Vikram\")</td>\n",
       "      <td>22400</td>\n",
       "    </tr>\n",
       "    <tr>\n",
       "      <th>7</th>\n",
       "      <td>2022-07-27 08:10</td>\n",
       "      <td>Anirudh Ravichander</td>\n",
       "      <td>Pathala Pathala (From \"Vikram\")</td>\n",
       "      <td>2360</td>\n",
       "    </tr>\n",
       "    <tr>\n",
       "      <th>8</th>\n",
       "      <td>2022-07-27 12:02</td>\n",
       "      <td>Anirudh Ravichander</td>\n",
       "      <td>Pathala Pathala (From \"Vikram\")</td>\n",
       "      <td>4230</td>\n",
       "    </tr>\n",
       "    <tr>\n",
       "      <th>9</th>\n",
       "      <td>2022-07-27 19:52</td>\n",
       "      <td>Anirudh Ravichander</td>\n",
       "      <td>Pathala Pathala (From \"Vikram\")</td>\n",
       "      <td>5460</td>\n",
       "    </tr>\n",
       "  </tbody>\n",
       "</table>\n",
       "</div>"
      ],
      "text/plain": [
       "            endTime           artistName                        trackName  \\\n",
       "0  2022-07-04 18:28  Anirudh Ravichander  Pathala Pathala (From \"Vikram\")   \n",
       "1  2022-07-05 16:41  Anirudh Ravichander  Pathala Pathala (From \"Vikram\")   \n",
       "2  2022-07-05 17:33  Anirudh Ravichander  Pathala Pathala (From \"Vikram\")   \n",
       "3  2022-07-19 19:55  Anirudh Ravichander  Pathala Pathala (From \"Vikram\")   \n",
       "4  2022-07-21 22:33  Anirudh Ravichander  Pathala Pathala (From \"Vikram\")   \n",
       "5  2022-07-26 10:48  Anirudh Ravichander  Pathala Pathala (From \"Vikram\")   \n",
       "6  2022-07-26 19:35  Anirudh Ravichander  Pathala Pathala (From \"Vikram\")   \n",
       "7  2022-07-27 08:10  Anirudh Ravichander  Pathala Pathala (From \"Vikram\")   \n",
       "8  2022-07-27 12:02  Anirudh Ravichander  Pathala Pathala (From \"Vikram\")   \n",
       "9  2022-07-27 19:52  Anirudh Ravichander  Pathala Pathala (From \"Vikram\")   \n",
       "\n",
       "   msPlayed  \n",
       "0      1810  \n",
       "1     15350  \n",
       "2      3780  \n",
       "3       530  \n",
       "4      9070  \n",
       "5      3920  \n",
       "6     22400  \n",
       "7      2360  \n",
       "8      4230  \n",
       "9      5460  "
      ]
     },
     "execution_count": 5,
     "metadata": {},
     "output_type": "execute_result"
    }
   ],
   "source": [
    "df_stream.head(10)"
   ]
  },
  {
   "cell_type": "code",
   "execution_count": 6,
   "id": "0f5dcbc5",
   "metadata": {},
   "outputs": [
    {
     "data": {
      "text/html": [
       "<div>\n",
       "<style scoped>\n",
       "    .dataframe tbody tr th:only-of-type {\n",
       "        vertical-align: middle;\n",
       "    }\n",
       "\n",
       "    .dataframe tbody tr th {\n",
       "        vertical-align: top;\n",
       "    }\n",
       "\n",
       "    .dataframe thead th {\n",
       "        text-align: right;\n",
       "    }\n",
       "</style>\n",
       "<table border=\"1\" class=\"dataframe\">\n",
       "  <thead>\n",
       "    <tr style=\"text-align: right;\">\n",
       "      <th></th>\n",
       "      <th>artist</th>\n",
       "      <th>album</th>\n",
       "      <th>track</th>\n",
       "      <th>uri</th>\n",
       "    </tr>\n",
       "  </thead>\n",
       "  <tbody>\n",
       "    <tr>\n",
       "      <th>0</th>\n",
       "      <td>Santhosh Narayanan</td>\n",
       "      <td>Madras</td>\n",
       "      <td>Agayam Theepiditha</td>\n",
       "      <td>spotify:track:19nEFsswIftvopxVMUAM9b</td>\n",
       "    </tr>\n",
       "    <tr>\n",
       "      <th>1</th>\n",
       "      <td>Sid Sriram</td>\n",
       "      <td>Enai Noki Paayum Thota (Original Motion Pictur...</td>\n",
       "      <td>Visiri</td>\n",
       "      <td>spotify:track:5Mt9VMVJc2T5Pa3qKUfw9t</td>\n",
       "    </tr>\n",
       "    <tr>\n",
       "      <th>2</th>\n",
       "      <td>S. P. Balasubrahmanyam</td>\n",
       "      <td>Chandramukhi</td>\n",
       "      <td>Athithom</td>\n",
       "      <td>spotify:track:2NeyA5MOLBZW21zKHBC2G2</td>\n",
       "    </tr>\n",
       "    <tr>\n",
       "      <th>3</th>\n",
       "      <td>G. V. Prakash</td>\n",
       "      <td>Aayirathil Oruvan (Original Motion Picture Sou...</td>\n",
       "      <td>Maalai Neram</td>\n",
       "      <td>spotify:track:3S4ELYAcxunw60elgJwAwn</td>\n",
       "    </tr>\n",
       "    <tr>\n",
       "      <th>4</th>\n",
       "      <td>Harris Jayaraj</td>\n",
       "      <td>The Legend</td>\n",
       "      <td>Kone Komaane</td>\n",
       "      <td>spotify:track:0pgcemvSQD0ZdZBDtZqY5o</td>\n",
       "    </tr>\n",
       "    <tr>\n",
       "      <th>5</th>\n",
       "      <td>Vicanes Jay</td>\n",
       "      <td>Adiyeh Kirukki (Single)</td>\n",
       "      <td>Adiyeh Kirukki</td>\n",
       "      <td>spotify:track:7kq5biqsSgrS156U5mpBp2</td>\n",
       "    </tr>\n",
       "    <tr>\n",
       "      <th>6</th>\n",
       "      <td>Alyssa Mendonsa</td>\n",
       "      <td>Zindagi Na Milegi Dobara</td>\n",
       "      <td>Khaabon Ke Parinday</td>\n",
       "      <td>spotify:track:14eotumM24MhIgzidgN3Jx</td>\n",
       "    </tr>\n",
       "    <tr>\n",
       "      <th>7</th>\n",
       "      <td>Santhosh Narayanan</td>\n",
       "      <td>Enakkul Oruvan</td>\n",
       "      <td>Poo Avizhum Pozhudhil</td>\n",
       "      <td>spotify:track:0r1ppERo8Mp5iKg3lANvnB</td>\n",
       "    </tr>\n",
       "    <tr>\n",
       "      <th>8</th>\n",
       "      <td>Matadoria</td>\n",
       "      <td>Marap</td>\n",
       "      <td>Marap</td>\n",
       "      <td>spotify:track:66aRgKCtqQFWLSGeFKgWQt</td>\n",
       "    </tr>\n",
       "    <tr>\n",
       "      <th>9</th>\n",
       "      <td>Ian Storm</td>\n",
       "      <td>Clocks</td>\n",
       "      <td>Clocks</td>\n",
       "      <td>spotify:track:56BxlyQbuS5QGc1QZ9WgfQ</td>\n",
       "    </tr>\n",
       "  </tbody>\n",
       "</table>\n",
       "</div>"
      ],
      "text/plain": [
       "                   artist                                              album  \\\n",
       "0      Santhosh Narayanan                                             Madras   \n",
       "1              Sid Sriram  Enai Noki Paayum Thota (Original Motion Pictur...   \n",
       "2  S. P. Balasubrahmanyam                                       Chandramukhi   \n",
       "3           G. V. Prakash  Aayirathil Oruvan (Original Motion Picture Sou...   \n",
       "4          Harris Jayaraj                                         The Legend   \n",
       "5             Vicanes Jay                            Adiyeh Kirukki (Single)   \n",
       "6         Alyssa Mendonsa                           Zindagi Na Milegi Dobara   \n",
       "7      Santhosh Narayanan                                     Enakkul Oruvan   \n",
       "8               Matadoria                                              Marap   \n",
       "9               Ian Storm                                             Clocks   \n",
       "\n",
       "                   track                                   uri  \n",
       "0     Agayam Theepiditha  spotify:track:19nEFsswIftvopxVMUAM9b  \n",
       "1                 Visiri  spotify:track:5Mt9VMVJc2T5Pa3qKUfw9t  \n",
       "2               Athithom  spotify:track:2NeyA5MOLBZW21zKHBC2G2  \n",
       "3           Maalai Neram  spotify:track:3S4ELYAcxunw60elgJwAwn  \n",
       "4           Kone Komaane  spotify:track:0pgcemvSQD0ZdZBDtZqY5o  \n",
       "5         Adiyeh Kirukki  spotify:track:7kq5biqsSgrS156U5mpBp2  \n",
       "6    Khaabon Ke Parinday  spotify:track:14eotumM24MhIgzidgN3Jx  \n",
       "7  Poo Avizhum Pozhudhil  spotify:track:0r1ppERo8Mp5iKg3lANvnB  \n",
       "8                  Marap  spotify:track:66aRgKCtqQFWLSGeFKgWQt  \n",
       "9                 Clocks  spotify:track:56BxlyQbuS5QGc1QZ9WgfQ  "
      ]
     },
     "execution_count": 6,
     "metadata": {},
     "output_type": "execute_result"
    }
   ],
   "source": [
    "with open('YourLibrary.json') as f:\n",
    "    df = json.load(f)\n",
    "    \n",
    "df_library = df[\"tracks\"]\n",
    "\n",
    "df_library_final = pd.DataFrame(df_library, columns = [\"artist\", \"album\",\"track\",\"uri\"])\n",
    "\n",
    "df_library_final.head(10)"
   ]
  },
  {
   "cell_type": "code",
   "execution_count": 7,
   "id": "b3a72ba8",
   "metadata": {},
   "outputs": [],
   "source": [
    "df_stream[\"msPlayed\"] = df_stream[\"msPlayed\"]/1000\n",
    "df_stream = df_stream.rename(columns = {\"msPlayed\": \"SecondsPlayed\"})"
   ]
  },
  {
   "cell_type": "code",
   "execution_count": 2,
   "id": "dfab3b68",
   "metadata": {},
   "outputs": [
    {
     "ename": "NameError",
     "evalue": "name 'df_stream' is not defined",
     "output_type": "error",
     "traceback": [
      "\u001b[0;31m---------------------------------------------------------------------------\u001b[0m",
      "\u001b[0;31mNameError\u001b[0m                                 Traceback (most recent call last)",
      "\u001b[0;32m/var/folders/kt/mc2wmv_n0y3863x9hd7z2k3r0000gn/T/ipykernel_45807/2606804648.py\u001b[0m in \u001b[0;36m<module>\u001b[0;34m\u001b[0m\n\u001b[0;32m----> 1\u001b[0;31m \u001b[0mdf_stream\u001b[0m\u001b[0;34m.\u001b[0m\u001b[0mgroupby\u001b[0m\u001b[0;34m(\u001b[0m\u001b[0;34m[\u001b[0m\u001b[0;34m\"artistName\"\u001b[0m\u001b[0;34m]\u001b[0m\u001b[0;34m)\u001b[0m\u001b[0;34m.\u001b[0m\u001b[0msum\u001b[0m\u001b[0;34m(\u001b[0m\u001b[0;34m)\u001b[0m\u001b[0;34m\u001b[0m\u001b[0;34m\u001b[0m\u001b[0m\n\u001b[0m",
      "\u001b[0;31mNameError\u001b[0m: name 'df_stream' is not defined"
     ]
    }
   ],
   "source": [
    "df_stream.groupby([\"artistName\"]).sum()"
   ]
  },
  {
   "cell_type": "code",
   "execution_count": 9,
   "id": "877ef09b",
   "metadata": {},
   "outputs": [
    {
     "data": {
      "text/html": [
       "<div>\n",
       "<style scoped>\n",
       "    .dataframe tbody tr th:only-of-type {\n",
       "        vertical-align: middle;\n",
       "    }\n",
       "\n",
       "    .dataframe tbody tr th {\n",
       "        vertical-align: top;\n",
       "    }\n",
       "\n",
       "    .dataframe thead th {\n",
       "        text-align: right;\n",
       "    }\n",
       "</style>\n",
       "<table border=\"1\" class=\"dataframe\">\n",
       "  <thead>\n",
       "    <tr style=\"text-align: right;\">\n",
       "      <th></th>\n",
       "      <th>endTime</th>\n",
       "      <th>artistName</th>\n",
       "      <th>trackName</th>\n",
       "      <th>SecondsPlayed</th>\n",
       "    </tr>\n",
       "  </thead>\n",
       "  <tbody>\n",
       "    <tr>\n",
       "      <th>0</th>\n",
       "      <td>2022-07-04 18:28:00</td>\n",
       "      <td>Anirudh Ravichander</td>\n",
       "      <td>Pathala Pathala (From \"Vikram\")</td>\n",
       "      <td>1.810</td>\n",
       "    </tr>\n",
       "    <tr>\n",
       "      <th>1</th>\n",
       "      <td>2022-07-05 16:41:00</td>\n",
       "      <td>Anirudh Ravichander</td>\n",
       "      <td>Pathala Pathala (From \"Vikram\")</td>\n",
       "      <td>15.350</td>\n",
       "    </tr>\n",
       "    <tr>\n",
       "      <th>2</th>\n",
       "      <td>2022-07-05 17:33:00</td>\n",
       "      <td>Anirudh Ravichander</td>\n",
       "      <td>Pathala Pathala (From \"Vikram\")</td>\n",
       "      <td>3.780</td>\n",
       "    </tr>\n",
       "    <tr>\n",
       "      <th>3</th>\n",
       "      <td>2022-07-19 19:55:00</td>\n",
       "      <td>Anirudh Ravichander</td>\n",
       "      <td>Pathala Pathala (From \"Vikram\")</td>\n",
       "      <td>0.530</td>\n",
       "    </tr>\n",
       "    <tr>\n",
       "      <th>4</th>\n",
       "      <td>2022-07-21 22:33:00</td>\n",
       "      <td>Anirudh Ravichander</td>\n",
       "      <td>Pathala Pathala (From \"Vikram\")</td>\n",
       "      <td>9.070</td>\n",
       "    </tr>\n",
       "    <tr>\n",
       "      <th>...</th>\n",
       "      <td>...</td>\n",
       "      <td>...</td>\n",
       "      <td>...</td>\n",
       "      <td>...</td>\n",
       "    </tr>\n",
       "    <tr>\n",
       "      <th>715</th>\n",
       "      <td>2023-06-29 08:16:00</td>\n",
       "      <td>Naallanaa Murukku - The RJ Balaji Podcast</td>\n",
       "      <td>Let it go .!</td>\n",
       "      <td>1138.653</td>\n",
       "    </tr>\n",
       "    <tr>\n",
       "      <th>716</th>\n",
       "      <td>2023-06-29 09:10:00</td>\n",
       "      <td>Naallanaa Murukku - The RJ Balaji Podcast</td>\n",
       "      <td>தொண்டையில் தாழம்பு !!!</td>\n",
       "      <td>85.386</td>\n",
       "    </tr>\n",
       "    <tr>\n",
       "      <th>717</th>\n",
       "      <td>2023-06-29 09:11:00</td>\n",
       "      <td>Naallanaa Murukku - The RJ Balaji Podcast</td>\n",
       "      <td>தொண்டையில் தாழம்பு !!!</td>\n",
       "      <td>80.592</td>\n",
       "    </tr>\n",
       "    <tr>\n",
       "      <th>718</th>\n",
       "      <td>2023-06-29 09:33:00</td>\n",
       "      <td>Naallanaa Murukku - The RJ Balaji Podcast</td>\n",
       "      <td>கற்றது தமிழ் !!!</td>\n",
       "      <td>1279.307</td>\n",
       "    </tr>\n",
       "    <tr>\n",
       "      <th>719</th>\n",
       "      <td>2023-06-29 09:49:00</td>\n",
       "      <td>Naallanaa Murukku - The RJ Balaji Podcast</td>\n",
       "      <td>நீ மேலே - நான் கீழே !</td>\n",
       "      <td>984.889</td>\n",
       "    </tr>\n",
       "  </tbody>\n",
       "</table>\n",
       "<p>720 rows × 4 columns</p>\n",
       "</div>"
      ],
      "text/plain": [
       "                endTime                                 artistName  \\\n",
       "0   2022-07-04 18:28:00                        Anirudh Ravichander   \n",
       "1   2022-07-05 16:41:00                        Anirudh Ravichander   \n",
       "2   2022-07-05 17:33:00                        Anirudh Ravichander   \n",
       "3   2022-07-19 19:55:00                        Anirudh Ravichander   \n",
       "4   2022-07-21 22:33:00                        Anirudh Ravichander   \n",
       "..                  ...                                        ...   \n",
       "715 2023-06-29 08:16:00  Naallanaa Murukku - The RJ Balaji Podcast   \n",
       "716 2023-06-29 09:10:00  Naallanaa Murukku - The RJ Balaji Podcast   \n",
       "717 2023-06-29 09:11:00  Naallanaa Murukku - The RJ Balaji Podcast   \n",
       "718 2023-06-29 09:33:00  Naallanaa Murukku - The RJ Balaji Podcast   \n",
       "719 2023-06-29 09:49:00  Naallanaa Murukku - The RJ Balaji Podcast   \n",
       "\n",
       "                           trackName  SecondsPlayed  \n",
       "0    Pathala Pathala (From \"Vikram\")          1.810  \n",
       "1    Pathala Pathala (From \"Vikram\")         15.350  \n",
       "2    Pathala Pathala (From \"Vikram\")          3.780  \n",
       "3    Pathala Pathala (From \"Vikram\")          0.530  \n",
       "4    Pathala Pathala (From \"Vikram\")          9.070  \n",
       "..                               ...            ...  \n",
       "715                     Let it go .!       1138.653  \n",
       "716           தொண்டையில் தாழம்பு !!!         85.386  \n",
       "717           தொண்டையில் தாழம்பு !!!         80.592  \n",
       "718                 கற்றது தமிழ் !!!       1279.307  \n",
       "719            நீ மேலே - நான் கீழே !        984.889  \n",
       "\n",
       "[720 rows x 4 columns]"
      ]
     },
     "execution_count": 9,
     "metadata": {},
     "output_type": "execute_result"
    }
   ],
   "source": [
    "df_stream[\"endTime\"] = pd.to_datetime(df_stream[\"endTime\"])\n",
    "df_stream"
   ]
  },
  {
   "cell_type": "code",
   "execution_count": 10,
   "id": "098a5b3f",
   "metadata": {},
   "outputs": [],
   "source": [
    "df_hour_plot = df_stream.groupby(df_stream['endTime'].dt.hour).sum()"
   ]
  },
  {
   "cell_type": "code",
   "execution_count": 11,
   "id": "75acac69",
   "metadata": {},
   "outputs": [
    {
     "data": {
      "text/plain": [
       "<AxesSubplot:xlabel='endTime'>"
      ]
     },
     "execution_count": 11,
     "metadata": {},
     "output_type": "execute_result"
    },
    {
     "data": {
      "image/png": "[encoded data removed]",
      "text/plain": [
       "<Figure size 640x480 with 1 Axes>"
      ]
     },
     "metadata": {},
     "output_type": "display_data"
    }
   ],
   "source": [
    "df_hour_plot.plot.bar()"
   ]
  },
  {
   "cell_type": "code",
   "execution_count": 12,
   "id": "951d6f41",
   "metadata": {},
   "outputs": [],
   "source": [
    "df_monthly_plot = df_stream.groupby(df_stream['endTime'].dt.month).sum()"
   ]
  },
  {
   "cell_type": "code",
   "execution_count": 13,
   "id": "eacc6ba8",
   "metadata": {},
   "outputs": [
    {
     "data": {
      "text/plain": [
       "<AxesSubplot:xlabel='endTime'>"
      ]
     },
     "execution_count": 13,
     "metadata": {},
     "output_type": "execute_result"
    },
    {
     "data": {
      "image/png": "[encoded data removed]",
      "text/plain": [
       "<Figure size 640x480 with 1 Axes>"
      ]
     },
     "metadata": {},
     "output_type": "display_data"
    }
   ],
   "source": [
    "df_monthly_plot.plot.line()"
   ]
  },
  {
   "cell_type": "markdown",
   "id": "ee9a57af",
   "metadata": {},
   "source": [
    "The below code is to use spotify API to retrive track data"
   ]
  },
  {
   "cell_type": "code",
   "execution_count": 14,
   "id": "ef69c73c",
   "metadata": {},
   "outputs": [],
   "source": [
    "# save your IDs from new project in Spotify Developer Dashboard\n",
    "CLIENT_ID = '9444e5d0012f4b2688a29c093833655c'\n",
    "CLIENT_SECRET = '87fe2061e440456fa5dafed6388b672d'"
   ]
  },
  {
   "cell_type": "code",
   "execution_count": 15,
   "id": "5fd66e98",
   "metadata": {},
   "outputs": [],
   "source": [
    "# generate access token\n",
    "\n",
    "# authentication URL\n",
    "AUTH_URL = 'https://accounts.spotify.com/api/token'\n",
    "\n",
    "# POST\n",
    "auth_response = requests.post(AUTH_URL, {\n",
    "    'grant_type': 'client_credentials',\n",
    "    'client_id': CLIENT_ID,\n",
    "    'client_secret': CLIENT_SECRET,\n",
    "})\n",
    "\n",
    "# convert the response to JSON\n",
    "auth_response_data = auth_response.json()\n",
    "\n",
    "# save the access token\n",
    "access_token = auth_response_data['access_token']"
   ]
  },
  {
   "cell_type": "code",
   "execution_count": 16,
   "id": "2232be97",
   "metadata": {},
   "outputs": [],
   "source": [
    "# used for authenticating all API calls\n",
    "headers = {'Authorization': 'Bearer {token}'.format(token=access_token)}"
   ]
  },
  {
   "cell_type": "code",
   "execution_count": 17,
   "id": "e2dc8489",
   "metadata": {},
   "outputs": [],
   "source": [
    "# base URL of all Spotify API endpoints\n",
    "BASE_URL = 'https://api.spotify.com/v1/'"
   ]
  },
  {
   "cell_type": "code",
   "execution_count": 18,
   "id": "c867d5fb",
   "metadata": {},
   "outputs": [],
   "source": [
    "headers = {\n",
    "    'Authorization': 'Bearer {token}'.format(token=access_token)\n",
    "}"
   ]
  },
  {
   "cell_type": "code",
   "execution_count": 19,
   "id": "1904c92e",
   "metadata": {},
   "outputs": [],
   "source": [
    "df_uri = df_library_final[\"uri\"].str.split(\":\", expand = True)"
   ]
  },
  {
   "cell_type": "code",
   "execution_count": 20,
   "id": "a87e3384",
   "metadata": {},
   "outputs": [],
   "source": [
    "df_library_final[\"track_uri\"] = df_uri[2]"
   ]
  },
  {
   "cell_type": "code",
   "execution_count": 21,
   "id": "761fe2e7",
   "metadata": {},
   "outputs": [
    {
     "data": {
      "text/html": [
       "<div>\n",
       "<style scoped>\n",
       "    .dataframe tbody tr th:only-of-type {\n",
       "        vertical-align: middle;\n",
       "    }\n",
       "\n",
       "    .dataframe tbody tr th {\n",
       "        vertical-align: top;\n",
       "    }\n",
       "\n",
       "    .dataframe thead th {\n",
       "        text-align: right;\n",
       "    }\n",
       "</style>\n",
       "<table border=\"1\" class=\"dataframe\">\n",
       "  <thead>\n",
       "    <tr style=\"text-align: right;\">\n",
       "      <th></th>\n",
       "      <th>artist</th>\n",
       "      <th>album</th>\n",
       "      <th>track</th>\n",
       "      <th>uri</th>\n",
       "      <th>track_uri</th>\n",
       "    </tr>\n",
       "  </thead>\n",
       "  <tbody>\n",
       "    <tr>\n",
       "      <th>0</th>\n",
       "      <td>Santhosh Narayanan</td>\n",
       "      <td>Madras</td>\n",
       "      <td>Agayam Theepiditha</td>\n",
       "      <td>spotify:track:19nEFsswIftvopxVMUAM9b</td>\n",
       "      <td>19nEFsswIftvopxVMUAM9b</td>\n",
       "    </tr>\n",
       "    <tr>\n",
       "      <th>1</th>\n",
       "      <td>Sid Sriram</td>\n",
       "      <td>Enai Noki Paayum Thota (Original Motion Pictur...</td>\n",
       "      <td>Visiri</td>\n",
       "      <td>spotify:track:5Mt9VMVJc2T5Pa3qKUfw9t</td>\n",
       "      <td>5Mt9VMVJc2T5Pa3qKUfw9t</td>\n",
       "    </tr>\n",
       "    <tr>\n",
       "      <th>2</th>\n",
       "      <td>S. P. Balasubrahmanyam</td>\n",
       "      <td>Chandramukhi</td>\n",
       "      <td>Athithom</td>\n",
       "      <td>spotify:track:2NeyA5MOLBZW21zKHBC2G2</td>\n",
       "      <td>2NeyA5MOLBZW21zKHBC2G2</td>\n",
       "    </tr>\n",
       "    <tr>\n",
       "      <th>3</th>\n",
       "      <td>G. V. Prakash</td>\n",
       "      <td>Aayirathil Oruvan (Original Motion Picture Sou...</td>\n",
       "      <td>Maalai Neram</td>\n",
       "      <td>spotify:track:3S4ELYAcxunw60elgJwAwn</td>\n",
       "      <td>3S4ELYAcxunw60elgJwAwn</td>\n",
       "    </tr>\n",
       "    <tr>\n",
       "      <th>4</th>\n",
       "      <td>Harris Jayaraj</td>\n",
       "      <td>The Legend</td>\n",
       "      <td>Kone Komaane</td>\n",
       "      <td>spotify:track:0pgcemvSQD0ZdZBDtZqY5o</td>\n",
       "      <td>0pgcemvSQD0ZdZBDtZqY5o</td>\n",
       "    </tr>\n",
       "    <tr>\n",
       "      <th>5</th>\n",
       "      <td>Vicanes Jay</td>\n",
       "      <td>Adiyeh Kirukki (Single)</td>\n",
       "      <td>Adiyeh Kirukki</td>\n",
       "      <td>spotify:track:7kq5biqsSgrS156U5mpBp2</td>\n",
       "      <td>7kq5biqsSgrS156U5mpBp2</td>\n",
       "    </tr>\n",
       "    <tr>\n",
       "      <th>6</th>\n",
       "      <td>Alyssa Mendonsa</td>\n",
       "      <td>Zindagi Na Milegi Dobara</td>\n",
       "      <td>Khaabon Ke Parinday</td>\n",
       "      <td>spotify:track:14eotumM24MhIgzidgN3Jx</td>\n",
       "      <td>14eotumM24MhIgzidgN3Jx</td>\n",
       "    </tr>\n",
       "    <tr>\n",
       "      <th>7</th>\n",
       "      <td>Santhosh Narayanan</td>\n",
       "      <td>Enakkul Oruvan</td>\n",
       "      <td>Poo Avizhum Pozhudhil</td>\n",
       "      <td>spotify:track:0r1ppERo8Mp5iKg3lANvnB</td>\n",
       "      <td>0r1ppERo8Mp5iKg3lANvnB</td>\n",
       "    </tr>\n",
       "    <tr>\n",
       "      <th>8</th>\n",
       "      <td>Matadoria</td>\n",
       "      <td>Marap</td>\n",
       "      <td>Marap</td>\n",
       "      <td>spotify:track:66aRgKCtqQFWLSGeFKgWQt</td>\n",
       "      <td>66aRgKCtqQFWLSGeFKgWQt</td>\n",
       "    </tr>\n",
       "    <tr>\n",
       "      <th>9</th>\n",
       "      <td>Ian Storm</td>\n",
       "      <td>Clocks</td>\n",
       "      <td>Clocks</td>\n",
       "      <td>spotify:track:56BxlyQbuS5QGc1QZ9WgfQ</td>\n",
       "      <td>56BxlyQbuS5QGc1QZ9WgfQ</td>\n",
       "    </tr>\n",
       "  </tbody>\n",
       "</table>\n",
       "</div>"
      ],
      "text/plain": [
       "                   artist                                              album  \\\n",
       "0      Santhosh Narayanan                                             Madras   \n",
       "1              Sid Sriram  Enai Noki Paayum Thota (Original Motion Pictur...   \n",
       "2  S. P. Balasubrahmanyam                                       Chandramukhi   \n",
       "3           G. V. Prakash  Aayirathil Oruvan (Original Motion Picture Sou...   \n",
       "4          Harris Jayaraj                                         The Legend   \n",
       "5             Vicanes Jay                            Adiyeh Kirukki (Single)   \n",
       "6         Alyssa Mendonsa                           Zindagi Na Milegi Dobara   \n",
       "7      Santhosh Narayanan                                     Enakkul Oruvan   \n",
       "8               Matadoria                                              Marap   \n",
       "9               Ian Storm                                             Clocks   \n",
       "\n",
       "                   track                                   uri  \\\n",
       "0     Agayam Theepiditha  spotify:track:19nEFsswIftvopxVMUAM9b   \n",
       "1                 Visiri  spotify:track:5Mt9VMVJc2T5Pa3qKUfw9t   \n",
       "2               Athithom  spotify:track:2NeyA5MOLBZW21zKHBC2G2   \n",
       "3           Maalai Neram  spotify:track:3S4ELYAcxunw60elgJwAwn   \n",
       "4           Kone Komaane  spotify:track:0pgcemvSQD0ZdZBDtZqY5o   \n",
       "5         Adiyeh Kirukki  spotify:track:7kq5biqsSgrS156U5mpBp2   \n",
       "6    Khaabon Ke Parinday  spotify:track:14eotumM24MhIgzidgN3Jx   \n",
       "7  Poo Avizhum Pozhudhil  spotify:track:0r1ppERo8Mp5iKg3lANvnB   \n",
       "8                  Marap  spotify:track:66aRgKCtqQFWLSGeFKgWQt   \n",
       "9                 Clocks  spotify:track:56BxlyQbuS5QGc1QZ9WgfQ   \n",
       "\n",
       "                track_uri  \n",
       "0  19nEFsswIftvopxVMUAM9b  \n",
       "1  5Mt9VMVJc2T5Pa3qKUfw9t  \n",
       "2  2NeyA5MOLBZW21zKHBC2G2  \n",
       "3  3S4ELYAcxunw60elgJwAwn  \n",
       "4  0pgcemvSQD0ZdZBDtZqY5o  \n",
       "5  7kq5biqsSgrS156U5mpBp2  \n",
       "6  14eotumM24MhIgzidgN3Jx  \n",
       "7  0r1ppERo8Mp5iKg3lANvnB  \n",
       "8  66aRgKCtqQFWLSGeFKgWQt  \n",
       "9  56BxlyQbuS5QGc1QZ9WgfQ  "
      ]
     },
     "execution_count": 21,
     "metadata": {},
     "output_type": "execute_result"
    }
   ],
   "source": [
    "df_library_final.head(10)"
   ]
  },
  {
   "cell_type": "code",
   "execution_count": 22,
   "id": "76ef8210",
   "metadata": {},
   "outputs": [
    {
     "data": {
      "text/html": [
       "<div>\n",
       "<style scoped>\n",
       "    .dataframe tbody tr th:only-of-type {\n",
       "        vertical-align: middle;\n",
       "    }\n",
       "\n",
       "    .dataframe tbody tr th {\n",
       "        vertical-align: top;\n",
       "    }\n",
       "\n",
       "    .dataframe thead th {\n",
       "        text-align: right;\n",
       "    }\n",
       "</style>\n",
       "<table border=\"1\" class=\"dataframe\">\n",
       "  <thead>\n",
       "    <tr style=\"text-align: right;\">\n",
       "      <th></th>\n",
       "      <th>artist</th>\n",
       "      <th>album</th>\n",
       "      <th>track</th>\n",
       "      <th>uri</th>\n",
       "      <th>track_uri</th>\n",
       "    </tr>\n",
       "  </thead>\n",
       "  <tbody>\n",
       "    <tr>\n",
       "      <th>count</th>\n",
       "      <td>145</td>\n",
       "      <td>145</td>\n",
       "      <td>145</td>\n",
       "      <td>145</td>\n",
       "      <td>145</td>\n",
       "    </tr>\n",
       "    <tr>\n",
       "      <th>unique</th>\n",
       "      <td>75</td>\n",
       "      <td>133</td>\n",
       "      <td>145</td>\n",
       "      <td>145</td>\n",
       "      <td>145</td>\n",
       "    </tr>\n",
       "    <tr>\n",
       "      <th>top</th>\n",
       "      <td>A.R. Rahman</td>\n",
       "      <td>Ayan</td>\n",
       "      <td>Agayam Theepiditha</td>\n",
       "      <td>spotify:track:19nEFsswIftvopxVMUAM9b</td>\n",
       "      <td>19nEFsswIftvopxVMUAM9b</td>\n",
       "    </tr>\n",
       "    <tr>\n",
       "      <th>freq</th>\n",
       "      <td>14</td>\n",
       "      <td>3</td>\n",
       "      <td>1</td>\n",
       "      <td>1</td>\n",
       "      <td>1</td>\n",
       "    </tr>\n",
       "  </tbody>\n",
       "</table>\n",
       "</div>"
      ],
      "text/plain": [
       "             artist album               track  \\\n",
       "count           145   145                 145   \n",
       "unique           75   133                 145   \n",
       "top     A.R. Rahman  Ayan  Agayam Theepiditha   \n",
       "freq             14     3                   1   \n",
       "\n",
       "                                         uri               track_uri  \n",
       "count                                    145                     145  \n",
       "unique                                   145                     145  \n",
       "top     spotify:track:19nEFsswIftvopxVMUAM9b  19nEFsswIftvopxVMUAM9b  \n",
       "freq                                       1                       1  "
      ]
     },
     "execution_count": 22,
     "metadata": {},
     "output_type": "execute_result"
    }
   ],
   "source": [
    "df_library_final.describe()"
   ]
  },
  {
   "cell_type": "code",
   "execution_count": null,
   "id": "a2a45596",
   "metadata": {},
   "outputs": [],
   "source": []
  }
 ],
 "metadata": {
  "kernelspec": {
   "display_name": "Python 3 (ipykernel)",
   "language": "python",
   "name": "python3"
  },
  "language_info": {
   "codemirror_mode": {
    "name": "ipython",
    "version": 3
   },
   "file_extension": ".py",
   "mimetype": "text/x-python",
   "name": "python",
   "nbconvert_exporter": "python",
   "pygments_lexer": "ipython3",
   "version": "3.9.13"
  }
 },
 "nbformat": 4,
 "nbformat_minor": 5
}
